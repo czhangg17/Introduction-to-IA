{
  "cells": [
    {
      "cell_type": "markdown",
      "metadata": {
        "id": "yPgMTRLtHISb"
      },
      "source": [
        "# 02.01 - BASIC STRUCTURES"
      ]
    },
    {
      "cell_type": "code",
      "execution_count": 1,
      "metadata": {
        "colab": {
          "base_uri": "https://localhost:8080/",
          "height": 76
        },
        "id": "B4bLWyuaHISh",
        "outputId": "a5881b0e-afa8-4ba9-885c-4739382dbc61"
      },
      "outputs": [
        {
          "output_type": "display_data",
          "data": {
            "text/html": [
              "\n",
              "<meta name=\"google-signin-client_id\"\n",
              "      content=\"461673936472-kdjosv61up3ac1ajeuq6qqu72upilmls.apps.googleusercontent.com\"/>\n",
              "<script src=\"https://apis.google.com/js/client:platform.js?onload=google_button_start\"></script>\n",
              "    "
            ],
            "text/plain": [
              "<IPython.core.display.HTML object>"
            ]
          },
          "metadata": {}
        },
        {
          "output_type": "stream",
          "name": "stdout",
          "text": [
            "replicating local resources\n"
          ]
        },
        {
          "output_type": "execute_result",
          "data": {
            "text/html": [
              "<h3>See <a href='https://m5knaekxo6.execute-api.us-west-2.amazonaws.com/dev-v0001/rlxmooc/web/login' target='_blank'>my courses and progress</a></h2>"
            ],
            "text/plain": [
              "<IPython.core.display.HTML object>"
            ]
          },
          "metadata": {},
          "execution_count": 1
        }
      ],
      "source": [
        "!wget --no-cache -O init.py -q https://raw.githubusercontent.com/rramosp/ai4eng.v1/main/content/init.py\n",
        "import init; init.init(force_download=False); init.get_weblink()"
      ]
    },
    {
      "cell_type": "markdown",
      "metadata": {
        "id": "6FX3LJ9gHISj"
      },
      "source": [
        "## Introduction to Python"
      ]
    },
    {
      "cell_type": "markdown",
      "metadata": {
        "id": "kmcF2SBCHISk"
      },
      "source": [
        "Python is **interpreted** and **dynamically typed**. Observe in the following lines:\n",
        "\n",
        "- variables `a` and `b` have specific data types even if they are not explicitly defined.\n",
        "- python guesses their types by how they are being used (`\\\\` is integer division, while `\\` is floating point division) \n",
        "- python keeps executing stuff while no error is found $\\rightarrow$ python is interpreted"
      ]
    },
    {
      "cell_type": "code",
      "execution_count": 2,
      "metadata": {
        "colab": {
          "base_uri": "https://localhost:8080/"
        },
        "id": "Nq7wNzSSHISm",
        "outputId": "8ad50496-2955-40de-9fee-6d0fce74dbf8"
      },
      "outputs": [
        {
          "output_type": "stream",
          "name": "stdout",
          "text": [
            "4 <class 'int'>\n"
          ]
        }
      ],
      "source": [
        "a = 4\n",
        "print (a, type(a))"
      ]
    },
    {
      "cell_type": "code",
      "execution_count": 3,
      "metadata": {
        "colab": {
          "base_uri": "https://localhost:8080/"
        },
        "id": "MJLinwKCHISt",
        "outputId": "bfc23384-0d5b-43e2-bdf2-16c6ccd4ba14"
      },
      "outputs": [
        {
          "output_type": "stream",
          "name": "stdout",
          "text": [
            "4 <class 'float'>\n"
          ]
        }
      ],
      "source": [
        "b = 9.\n",
        "print (a, type(b))"
      ]
    },
    {
      "cell_type": "code",
      "execution_count": 4,
      "metadata": {
        "colab": {
          "base_uri": "https://localhost:8080/"
        },
        "id": "m4nAREL0HISu",
        "outputId": "c8505272-c490-4751-c06b-e6b2dd2723a7"
      },
      "outputs": [
        {
          "output_type": "stream",
          "name": "stdout",
          "text": [
            "2.25 <class 'float'>\n"
          ]
        }
      ],
      "source": [
        "c = 9/4\n",
        "print (c, type(c))"
      ]
    },
    {
      "cell_type": "code",
      "execution_count": 5,
      "metadata": {
        "colab": {
          "base_uri": "https://localhost:8080/"
        },
        "id": "v-Q9Ja6mHISv",
        "outputId": "40519b35-3aa6-407b-e061-4d9d1b383766"
      },
      "outputs": [
        {
          "output_type": "stream",
          "name": "stdout",
          "text": [
            "2 <class 'int'>\n"
          ]
        }
      ],
      "source": [
        "d = 9//4\n",
        "print (d, type(d))\n"
      ]
    },
    {
      "cell_type": "markdown",
      "metadata": {
        "id": "nG9VuHjrHISy"
      },
      "source": [
        "but types can be enforced, or used for data conversion"
      ]
    },
    {
      "cell_type": "code",
      "execution_count": 6,
      "metadata": {
        "colab": {
          "base_uri": "https://localhost:8080/"
        },
        "id": "2zutjmRSHISz",
        "outputId": "67e72375-4b22-4f3a-c721-4a04bba52002"
      },
      "outputs": [
        {
          "output_type": "stream",
          "name": "stdout",
          "text": [
            "1 :: 1.0\n"
          ]
        }
      ],
      "source": [
        "a = 1\n",
        "b = float(a)\n",
        "print (a, \"::\", b)"
      ]
    },
    {
      "cell_type": "code",
      "execution_count": 7,
      "metadata": {
        "colab": {
          "base_uri": "https://localhost:8080/"
        },
        "id": "UNcxBd5kHIS1",
        "outputId": "d25f38d5-08a3-4b50-d5cf-71d7336f6737"
      },
      "outputs": [
        {
          "output_type": "stream",
          "name": "stdout",
          "text": [
            "el valor de 'a' es 1\n"
          ]
        }
      ],
      "source": [
        "s = \"el valor de 'a' es \"+str(a)\n",
        "print (s)"
      ]
    },
    {
      "cell_type": "markdown",
      "metadata": {
        "id": "BXukHZSzHIS2"
      },
      "source": [
        "## Notebook cell outputs"
      ]
    },
    {
      "cell_type": "code",
      "execution_count": 8,
      "metadata": {
        "colab": {
          "base_uri": "https://localhost:8080/"
        },
        "id": "u7VNqfUGHIS2",
        "outputId": "6f1e7d2a-3905-45ba-d667-c44aa26bfe43"
      },
      "outputs": [
        {
          "output_type": "execute_result",
          "data": {
            "text/plain": [
              "(1, 1.0)"
            ]
          },
          "metadata": {},
          "execution_count": 8
        }
      ],
      "source": [
        "a = 1\n",
        "b = float(a)\n",
        "a,b"
      ]
    },
    {
      "cell_type": "code",
      "execution_count": 9,
      "metadata": {
        "colab": {
          "base_uri": "https://localhost:8080/"
        },
        "id": "7ZoR7APAHIS3",
        "outputId": "0af9a103-622c-4f03-dc0c-c652f012c611"
      },
      "outputs": [
        {
          "output_type": "execute_result",
          "data": {
            "text/plain": [
              "1.0"
            ]
          },
          "metadata": {},
          "execution_count": 9
        }
      ],
      "source": [
        "a = 1\n",
        "a\n",
        "b = float(a)\n",
        "b"
      ]
    },
    {
      "cell_type": "code",
      "execution_count": 10,
      "metadata": {
        "colab": {
          "base_uri": "https://localhost:8080/"
        },
        "id": "3fvnwetvHIS4",
        "outputId": "706ebb8f-de0b-4f3f-964c-9299dd96b24d"
      },
      "outputs": [
        {
          "output_type": "stream",
          "name": "stdout",
          "text": [
            "1\n"
          ]
        },
        {
          "output_type": "execute_result",
          "data": {
            "text/plain": [
              "1.0"
            ]
          },
          "metadata": {},
          "execution_count": 10
        }
      ],
      "source": [
        "a = 1\n",
        "print (a)\n",
        "b = float(a)\n",
        "b"
      ]
    },
    {
      "cell_type": "code",
      "execution_count": 10,
      "metadata": {
        "id": "NHhjgWk5HIS4"
      },
      "outputs": [],
      "source": [
        ""
      ]
    },
    {
      "cell_type": "markdown",
      "metadata": {
        "id": "eCiafrHsHIS5"
      },
      "source": [
        "## Lists\n",
        "\n",
        "ordered sequences of objects of **any** kind with cool indexing.\n",
        "\n",
        "indexing **starts at zero**."
      ]
    },
    {
      "cell_type": "code",
      "execution_count": 11,
      "metadata": {
        "id": "2HYFI1IvHIS5"
      },
      "outputs": [],
      "source": [
        "b = [1,10, 20.5, \"hola\", 10., 12, 13, 14., 15,16, 17., 18, 19, 20.]"
      ]
    },
    {
      "cell_type": "code",
      "execution_count": 12,
      "metadata": {
        "colab": {
          "base_uri": "https://localhost:8080/"
        },
        "id": "yLwpVdAtHIS6",
        "outputId": "d5891b2e-98fe-4523-e64b-075e4b55afef"
      },
      "outputs": [
        {
          "output_type": "stream",
          "name": "stdout",
          "text": [
            "14\n"
          ]
        }
      ],
      "source": [
        "print (len(b))"
      ]
    },
    {
      "cell_type": "code",
      "execution_count": 13,
      "metadata": {
        "colab": {
          "base_uri": "https://localhost:8080/"
        },
        "id": "__AmjI8CHIS7",
        "outputId": "9a0e3360-52cd-4fd8-8a91-d4054788edc6"
      },
      "outputs": [
        {
          "output_type": "stream",
          "name": "stdout",
          "text": [
            "[1, 10, 20.5]\n"
          ]
        }
      ],
      "source": [
        "# imprime del 0 a 3\n",
        "print (b[:3])"
      ]
    },
    {
      "cell_type": "code",
      "execution_count": 14,
      "metadata": {
        "colab": {
          "base_uri": "https://localhost:8080/"
        },
        "id": "MZ6kVydzHIS8",
        "outputId": "a466110f-5f35-4197-ae23-93b85b8f7b1d"
      },
      "outputs": [
        {
          "output_type": "stream",
          "name": "stdout",
          "text": [
            "['hola', 10.0, 12, 13, 14.0, 15, 16, 17.0, 18, 19, 20.0]\n"
          ]
        }
      ],
      "source": [
        "# imprime de 3 en adelante\n",
        "print (b[3:])"
      ]
    },
    {
      "cell_type": "code",
      "execution_count": 15,
      "metadata": {
        "colab": {
          "base_uri": "https://localhost:8080/"
        },
        "id": "rgZmSa07HIS8",
        "outputId": "c04bfa30-d88e-42a9-d0cf-0e347359fb1b"
      },
      "outputs": [
        {
          "output_type": "stream",
          "name": "stdout",
          "text": [
            "[18, 19, 20.0]\n"
          ]
        }
      ],
      "source": [
        "# imprime ultimos 3\n",
        "print (b[-3:])"
      ]
    },
    {
      "cell_type": "code",
      "execution_count": 16,
      "metadata": {
        "colab": {
          "base_uri": "https://localhost:8080/"
        },
        "id": "zyYkVyk8HIS8",
        "outputId": "9e1656e4-5fde-4fa1-e7fe-ce957e37e6a8"
      },
      "outputs": [
        {
          "output_type": "stream",
          "name": "stdout",
          "text": [
            "10.0\n"
          ]
        }
      ],
      "source": [
        "print (b[4])"
      ]
    },
    {
      "cell_type": "code",
      "execution_count": 17,
      "metadata": {
        "colab": {
          "base_uri": "https://localhost:8080/"
        },
        "id": "0lrvGf-aHIS9",
        "outputId": "048e7e09-26eb-4f46-a8a0-47712c79c911"
      },
      "outputs": [
        {
          "output_type": "stream",
          "name": "stdout",
          "text": [
            "[12, 13, 14.0, 15, 16]\n"
          ]
        }
      ],
      "source": [
        " # imprime del 6-11\n",
        "print (b[5:10])"
      ]
    },
    {
      "cell_type": "code",
      "source": [
        "#quito los dos del principio y los dos del final\n",
        "print(b[2:-2])"
      ],
      "metadata": {
        "id": "HAiLPXPJoEa2",
        "outputId": "a05a264b-6df8-4587-bf35-8e37668bc78c",
        "colab": {
          "base_uri": "https://localhost:8080/"
        }
      },
      "execution_count": 18,
      "outputs": [
        {
          "output_type": "stream",
          "name": "stdout",
          "text": [
            "[20.5, 'hola', 10.0, 12, 13, 14.0, 15, 16, 17.0, 18]\n"
          ]
        }
      ]
    },
    {
      "cell_type": "code",
      "execution_count": 19,
      "metadata": {
        "colab": {
          "base_uri": "https://localhost:8080/"
        },
        "id": "HaAg8MJoHIS9",
        "outputId": "61a30788-d12f-4e72-ec74-78e1e913e827"
      },
      "outputs": [
        {
          "output_type": "stream",
          "name": "stdout",
          "text": [
            "[16, 17.0, 18]\n"
          ]
        }
      ],
      "source": [
        "# desde -5 empezando por atras hasta -2 empezando por atras, el menos es un conteo regresivo\n",
        "print (b[-5:-2])"
      ]
    },
    {
      "cell_type": "code",
      "execution_count": 20,
      "metadata": {
        "colab": {
          "base_uri": "https://localhost:8080/"
        },
        "id": "VXH1-Z26HIS-",
        "outputId": "bab14716-bbc0-4c78-c6ec-f59cfa79056f"
      },
      "outputs": [
        {
          "output_type": "stream",
          "name": "stdout",
          "text": [
            "[1, 20.5, 10.0, 13, 15, 17.0, 19]\n"
          ]
        }
      ],
      "source": [
        "#imprime los de dos en dos\n",
        "print (b[::2])"
      ]
    },
    {
      "cell_type": "code",
      "execution_count": 21,
      "metadata": {
        "colab": {
          "base_uri": "https://localhost:8080/"
        },
        "id": "NlC4D1JkHIS-",
        "outputId": "d87e627a-c12c-4b9d-b8bb-f5ce8b1ee635"
      },
      "outputs": [
        {
          "output_type": "stream",
          "name": "stdout",
          "text": [
            "[20.0, 19, 18, 17.0, 16, 15, 14.0, 13, 12, 10.0, 'hola', 20.5, 10, 1]\n"
          ]
        }
      ],
      "source": [
        "#pone la lista al contrario\n",
        "print (b[::-1])"
      ]
    },
    {
      "cell_type": "code",
      "execution_count": 22,
      "metadata": {
        "colab": {
          "base_uri": "https://localhost:8080/"
        },
        "id": "ddrJv2eFHIS_",
        "outputId": "07440ee2-8737-49da-ca84-f03b52533fa2"
      },
      "outputs": [
        {
          "output_type": "execute_result",
          "data": {
            "text/plain": [
              "[1, 10, 20.5, 'hola', 10.0, 12, 13, 14.0, 15, 16, 17.0, 18, 19, 20.0, 'elfin']"
            ]
          },
          "metadata": {},
          "execution_count": 22
        }
      ],
      "source": [
        "b.append('elfin')\n",
        "b"
      ]
    },
    {
      "cell_type": "markdown",
      "metadata": {
        "id": "FzHf-dAPHIS_"
      },
      "source": [
        "can use variables as indexes"
      ]
    },
    {
      "cell_type": "code",
      "execution_count": 23,
      "metadata": {
        "colab": {
          "base_uri": "https://localhost:8080/"
        },
        "id": "fu2_QIQDHIS_",
        "outputId": "f13af590-b67d-45ab-b944-a5c1e5a8163a"
      },
      "outputs": [
        {
          "output_type": "stream",
          "name": "stdout",
          "text": [
            "0 --> 1\n"
          ]
        }
      ],
      "source": [
        "import numpy as np\n",
        "i = np.random.randint(len(b))\n",
        "print (i, '-->', b[i])"
      ]
    },
    {
      "cell_type": "markdown",
      "metadata": {
        "id": "Bwp4Sp-YHITA"
      },
      "source": [
        "truly **any** object"
      ]
    },
    {
      "cell_type": "code",
      "execution_count": 24,
      "metadata": {
        "id": "w_cuaHwyHITB"
      },
      "outputs": [],
      "source": [
        "a = 32\n",
        "b = 10\n",
        "s = [1,2,3,\"hola\", [10, \"nunca\", 90], a==b, -32]"
      ]
    },
    {
      "cell_type": "code",
      "execution_count": 25,
      "metadata": {
        "colab": {
          "base_uri": "https://localhost:8080/"
        },
        "id": "eXy-RYiNHITB",
        "outputId": "213d3379-469f-4c43-f57a-e18cc516f231"
      },
      "outputs": [
        {
          "output_type": "stream",
          "name": "stdout",
          "text": [
            "[1, 2, 3, 'hola', [10, 'nunca', 90], False, -32]\n"
          ]
        }
      ],
      "source": [
        "print (s)"
      ]
    },
    {
      "cell_type": "code",
      "execution_count": 26,
      "metadata": {
        "colab": {
          "base_uri": "https://localhost:8080/"
        },
        "id": "wuIIL-DMHITC",
        "outputId": "98f3b17a-0259-48f4-f6fb-7661628186e2"
      },
      "outputs": [
        {
          "output_type": "stream",
          "name": "stdout",
          "text": [
            "7\n"
          ]
        }
      ],
      "source": [
        "print (len(s))"
      ]
    },
    {
      "cell_type": "code",
      "execution_count": 27,
      "metadata": {
        "colab": {
          "base_uri": "https://localhost:8080/"
        },
        "id": "HaZUpcXaHITE",
        "outputId": "d6be811d-53a1-456a-bf25-0e1cd8566949"
      },
      "outputs": [
        {
          "output_type": "execute_result",
          "data": {
            "text/plain": [
              "[10, 'nunca', 90]"
            ]
          },
          "metadata": {},
          "execution_count": 27
        }
      ],
      "source": [
        "s[4]"
      ]
    },
    {
      "cell_type": "code",
      "execution_count": 28,
      "metadata": {
        "colab": {
          "base_uri": "https://localhost:8080/",
          "height": 36
        },
        "id": "8GlvbNShHITF",
        "outputId": "508815c1-0f2a-4a64-dcb2-328c353711a3"
      },
      "outputs": [
        {
          "output_type": "execute_result",
          "data": {
            "application/vnd.google.colaboratory.intrinsic+json": {
              "type": "string"
            },
            "text/plain": [
              "'nunca'"
            ]
          },
          "metadata": {},
          "execution_count": 28
        }
      ],
      "source": [
        "s[4][1]"
      ]
    },
    {
      "cell_type": "code",
      "execution_count": 29,
      "metadata": {
        "colab": {
          "base_uri": "https://localhost:8080/",
          "height": 36
        },
        "id": "jVoSJYAzHITF",
        "outputId": "55a48234-af0c-41d4-8817-b48be5802a35"
      },
      "outputs": [
        {
          "output_type": "execute_result",
          "data": {
            "application/vnd.google.colaboratory.intrinsic+json": {
              "type": "string"
            },
            "text/plain": [
              "'o'"
            ]
          },
          "metadata": {},
          "execution_count": 29
        }
      ],
      "source": [
        "s[3][1]"
      ]
    },
    {
      "cell_type": "markdown",
      "metadata": {
        "id": "c1sbJojBHITG"
      },
      "source": [
        "**some list operations**"
      ]
    },
    {
      "cell_type": "code",
      "execution_count": 30,
      "metadata": {
        "id": "Udu3Ak5SHITG"
      },
      "outputs": [],
      "source": [
        "a = [\"hola\", 2, \"adios\"]\n",
        "b = [-10., 1, [3, 4]]"
      ]
    },
    {
      "cell_type": "code",
      "execution_count": 31,
      "metadata": {
        "colab": {
          "base_uri": "https://localhost:8080/"
        },
        "id": "0omb1_GtHITH",
        "outputId": "b077f444-2c88-453a-d535-73c9df77626b"
      },
      "outputs": [
        {
          "output_type": "execute_result",
          "data": {
            "text/plain": [
              "['hola', 2, 'adios', -10.0, 1, [3, 4]]"
            ]
          },
          "metadata": {},
          "execution_count": 31
        }
      ],
      "source": [
        "a + b"
      ]
    },
    {
      "cell_type": "code",
      "execution_count": 32,
      "metadata": {
        "colab": {
          "base_uri": "https://localhost:8080/"
        },
        "id": "sj9zKnA0HITI",
        "outputId": "3a983046-ac5c-4d67-c8b8-4f21e0321c54"
      },
      "outputs": [
        {
          "output_type": "execute_result",
          "data": {
            "text/plain": [
              "['hola', 2, 'adios', 'hola', 2, 'adios']"
            ]
          },
          "metadata": {},
          "execution_count": 32
        }
      ],
      "source": [
        "a + a"
      ]
    },
    {
      "cell_type": "code",
      "execution_count": 33,
      "metadata": {
        "colab": {
          "base_uri": "https://localhost:8080/"
        },
        "id": "fwqj0R_qHITI",
        "outputId": "0c23f1e2-6a1a-4287-e376-d4c8f8ebc25d"
      },
      "outputs": [
        {
          "output_type": "execute_result",
          "data": {
            "text/plain": [
              "['hola', 2, 'adios', 'hola', 2, 'adios']"
            ]
          },
          "metadata": {},
          "execution_count": 33
        }
      ],
      "source": [
        "a*2"
      ]
    },
    {
      "cell_type": "code",
      "execution_count": 34,
      "metadata": {
        "colab": {
          "base_uri": "https://localhost:8080/"
        },
        "id": "u2PeofTIHITJ",
        "outputId": "2f384b78-bc4d-46e5-9e00-aaa190fc8223"
      },
      "outputs": [
        {
          "output_type": "execute_result",
          "data": {
            "text/plain": [
              "True"
            ]
          },
          "metadata": {},
          "execution_count": 34
        }
      ],
      "source": [
        "2 in a"
      ]
    },
    {
      "cell_type": "code",
      "execution_count": 35,
      "metadata": {
        "colab": {
          "base_uri": "https://localhost:8080/"
        },
        "id": "A2JjL6nzHITK",
        "outputId": "114d6fc5-49f0-4f30-d4e6-a307090e16e7"
      },
      "outputs": [
        {
          "output_type": "execute_result",
          "data": {
            "text/plain": [
              "True"
            ]
          },
          "metadata": {},
          "execution_count": 35
        }
      ],
      "source": [
        "\"hola\" not in b"
      ]
    },
    {
      "cell_type": "code",
      "execution_count": 36,
      "metadata": {
        "colab": {
          "base_uri": "https://localhost:8080/"
        },
        "id": "dDhdYKcpHITK",
        "outputId": "2bb3dd3f-1deb-4a22-9f60-f2281bcef5c5"
      },
      "outputs": [
        {
          "output_type": "execute_result",
          "data": {
            "text/plain": [
              "True"
            ]
          },
          "metadata": {},
          "execution_count": 36
        }
      ],
      "source": [
        "[3,4] in b"
      ]
    },
    {
      "cell_type": "code",
      "execution_count": 36,
      "metadata": {
        "id": "jl8FBhIgHITL"
      },
      "outputs": [],
      "source": [
        ""
      ]
    },
    {
      "cell_type": "markdown",
      "metadata": {
        "id": "H1baKVFWHITL"
      },
      "source": [
        "## Strings\n",
        "\n",
        "a string is like a special kind of list"
      ]
    },
    {
      "cell_type": "code",
      "execution_count": 37,
      "metadata": {
        "colab": {
          "base_uri": "https://localhost:8080/",
          "height": 36
        },
        "id": "9CIEW5eKHITL",
        "outputId": "9c336952-6316-447b-d84f-89f9aa7b284a"
      },
      "outputs": [
        {
          "output_type": "execute_result",
          "data": {
            "application/vnd.google.colaboratory.intrinsic+json": {
              "type": "string"
            },
            "text/plain": [
              "'en un lugar de la mancha'"
            ]
          },
          "metadata": {},
          "execution_count": 37
        }
      ],
      "source": [
        "a = \"en un lugar de la mancha\"\n",
        "a"
      ]
    },
    {
      "cell_type": "code",
      "execution_count": 38,
      "metadata": {
        "colab": {
          "base_uri": "https://localhost:8080/",
          "height": 36
        },
        "id": "ijDSpoTHHITL",
        "outputId": "8647a760-e0d0-4e1a-ee5f-04d2d2013d05"
      },
      "outputs": [
        {
          "output_type": "execute_result",
          "data": {
            "application/vnd.google.colaboratory.intrinsic+json": {
              "type": "string"
            },
            "text/plain": [
              "'un lugar de la mancha'"
            ]
          },
          "metadata": {},
          "execution_count": 38
        }
      ],
      "source": [
        "a[3:]"
      ]
    },
    {
      "cell_type": "code",
      "execution_count": 39,
      "metadata": {
        "colab": {
          "base_uri": "https://localhost:8080/",
          "height": 36
        },
        "id": "DWDPFSZgHITN",
        "outputId": "fc3906ea-78a8-4efc-af58-ff4bbc23fda5"
      },
      "outputs": [
        {
          "output_type": "execute_result",
          "data": {
            "application/vnd.google.colaboratory.intrinsic+json": {
              "type": "string"
            },
            "text/plain": [
              "' la mancha'"
            ]
          },
          "metadata": {},
          "execution_count": 39
        }
      ],
      "source": [
        "a[-10:]"
      ]
    },
    {
      "cell_type": "code",
      "execution_count": 40,
      "metadata": {
        "colab": {
          "base_uri": "https://localhost:8080/",
          "height": 36
        },
        "id": "068rDZCVHITN",
        "outputId": "1fa0af43-8999-4f88-fbe6-33e9e57ca1ee"
      },
      "outputs": [
        {
          "output_type": "execute_result",
          "data": {
            "application/vnd.google.colaboratory.intrinsic+json": {
              "type": "string"
            },
            "text/plain": [
              "'ahcnam al ed ragul nu ne'"
            ]
          },
          "metadata": {},
          "execution_count": 40
        }
      ],
      "source": [
        "a[::-1]"
      ]
    },
    {
      "cell_type": "code",
      "execution_count": 41,
      "metadata": {
        "colab": {
          "base_uri": "https://localhost:8080/",
          "height": 36
        },
        "id": "XABg9Vb3HITO",
        "outputId": "13cd02de-afe3-4fbd-9032-69150ff28c98"
      },
      "outputs": [
        {
          "output_type": "execute_result",
          "data": {
            "application/vnd.google.colaboratory.intrinsic+json": {
              "type": "string"
            },
            "text/plain": [
              "'e nlgrd amnh'"
            ]
          },
          "metadata": {},
          "execution_count": 41
        }
      ],
      "source": [
        "a[::2]"
      ]
    },
    {
      "cell_type": "code",
      "execution_count": 42,
      "metadata": {
        "colab": {
          "base_uri": "https://localhost:8080/"
        },
        "id": "W7Z0qelTHITP",
        "outputId": "a97ff843-4490-476b-f370-1e27daf51683"
      },
      "outputs": [
        {
          "output_type": "execute_result",
          "data": {
            "text/plain": [
              "True"
            ]
          },
          "metadata": {},
          "execution_count": 42
        }
      ],
      "source": [
        "'lugar' in a"
      ]
    },
    {
      "cell_type": "markdown",
      "metadata": {
        "id": "qXvZfELjHITP"
      },
      "source": [
        "with special operations"
      ]
    },
    {
      "cell_type": "code",
      "execution_count": 43,
      "metadata": {
        "colab": {
          "base_uri": "https://localhost:8080/"
        },
        "id": "Iv2p_v9HHITP",
        "outputId": "1b035b8a-fee0-47be-867c-69d970918172"
      },
      "outputs": [
        {
          "output_type": "execute_result",
          "data": {
            "text/plain": [
              "['en', 'un', 'lugar', 'de', 'la', 'mancha']"
            ]
          },
          "metadata": {},
          "execution_count": 43
        }
      ],
      "source": [
        "words = a.split()\n",
        "words"
      ]
    },
    {
      "cell_type": "code",
      "execution_count": 44,
      "metadata": {
        "colab": {
          "base_uri": "https://localhost:8080/",
          "height": 36
        },
        "id": "4Ei4xyfKHITQ",
        "outputId": "149f08ae-75a9-4afb-e3b3-097a73145bfa"
      },
      "outputs": [
        {
          "output_type": "execute_result",
          "data": {
            "application/vnd.google.colaboratory.intrinsic+json": {
              "type": "string"
            },
            "text/plain": [
              "'en::un::lugar::de::la::mancha'"
            ]
          },
          "metadata": {},
          "execution_count": 44
        }
      ],
      "source": [
        "\"::\".join(words)"
      ]
    },
    {
      "cell_type": "code",
      "execution_count": 45,
      "metadata": {
        "colab": {
          "base_uri": "https://localhost:8080/",
          "height": 36
        },
        "id": "KzCY9UOfHITQ",
        "outputId": "9dd6cd76-0093-47d9-ca84-299ccee8b66e"
      },
      "outputs": [
        {
          "output_type": "execute_result",
          "data": {
            "application/vnd.google.colaboratory.intrinsic+json": {
              "type": "string"
            },
            "text/plain": [
              "'EN UN LUGAR DE LA MANCHA'"
            ]
          },
          "metadata": {},
          "execution_count": 45
        }
      ],
      "source": [
        "a.upper()"
      ]
    },
    {
      "cell_type": "code",
      "execution_count": 46,
      "metadata": {
        "colab": {
          "base_uri": "https://localhost:8080/"
        },
        "id": "h3cvJpR0HITR",
        "outputId": "a051f5f4-8305-4b67-c7a4-3d7578417292"
      },
      "outputs": [
        {
          "output_type": "execute_result",
          "data": {
            "text/plain": [
              "True"
            ]
          },
          "metadata": {},
          "execution_count": 46
        }
      ],
      "source": [
        "a.startswith(\"en\")"
      ]
    },
    {
      "cell_type": "code",
      "execution_count": 47,
      "metadata": {
        "colab": {
          "base_uri": "https://localhost:8080/"
        },
        "id": "Ony2o8xxHITS",
        "outputId": "bf94a4d0-2d89-4b2a-be70-eb8ea5b36a1f"
      },
      "outputs": [
        {
          "output_type": "execute_result",
          "data": {
            "text/plain": [
              "False"
            ]
          },
          "metadata": {},
          "execution_count": 47
        }
      ],
      "source": [
        "a.endswith(\"lugar\")"
      ]
    },
    {
      "cell_type": "code",
      "execution_count": 48,
      "metadata": {
        "colab": {
          "base_uri": "https://localhost:8080/"
        },
        "id": "_UWXXGVdHITT",
        "outputId": "a2894773-3c65-4950-fc5f-2da288bcc461"
      },
      "outputs": [
        {
          "output_type": "execute_result",
          "data": {
            "text/plain": [
              "6"
            ]
          },
          "metadata": {},
          "execution_count": 48
        }
      ],
      "source": [
        "a.find('lugar')"
      ]
    },
    {
      "cell_type": "code",
      "execution_count": 49,
      "metadata": {
        "colab": {
          "base_uri": "https://localhost:8080/",
          "height": 36
        },
        "id": "_5LA1HotHITT",
        "outputId": "b5e751d2-6520-4452-d851-961d7b95ace1"
      },
      "outputs": [
        {
          "output_type": "execute_result",
          "data": {
            "application/vnd.google.colaboratory.intrinsic+json": {
              "type": "string"
            },
            "text/plain": [
              "'lugar de la mancha'"
            ]
          },
          "metadata": {},
          "execution_count": 49
        }
      ],
      "source": [
        "a[a.find('lugar'):]"
      ]
    },
    {
      "cell_type": "code",
      "execution_count": 49,
      "metadata": {
        "id": "ZRzBXjXjHITU"
      },
      "outputs": [],
      "source": [
        ""
      ]
    },
    {
      "cell_type": "markdown",
      "metadata": {
        "id": "eR6vIdioHITU"
      },
      "source": [
        "## `for` loops\n",
        "\n",
        "unlike other languages, `for` loops are defined over **iterables**. A `list` is an iterable, and there are many other iterables.\n",
        "\n",
        "Python syntax is **indented**.\n",
        "\n",
        "Observe python determines the semantics of `*` according to the context"
      ]
    },
    {
      "cell_type": "code",
      "execution_count": 50,
      "metadata": {
        "id": "TGhUpImuHITV"
      },
      "outputs": [],
      "source": [
        "b = [1,10, 20.5, \"hola\", 10.]"
      ]
    },
    {
      "cell_type": "code",
      "execution_count": 51,
      "metadata": {
        "colab": {
          "base_uri": "https://localhost:8080/"
        },
        "id": "0tD0yVGfHITV",
        "outputId": "5531feca-86ee-481d-a878-5a84804a1ebd"
      },
      "outputs": [
        {
          "output_type": "stream",
          "name": "stdout",
          "text": [
            "1 --> <class 'int'> x2 --> 2\n",
            "10 --> <class 'int'> x2 --> 20\n",
            "20.5 --> <class 'float'> x2 --> 41.0\n",
            "hola --> <class 'str'> x2 --> holahola\n",
            "10.0 --> <class 'float'> x2 --> 20.0\n"
          ]
        }
      ],
      "source": [
        "for i in b:\n",
        "    print (i, \"-->\", type(i), \"x2 -->\", i*2)"
      ]
    },
    {
      "cell_type": "markdown",
      "metadata": {
        "id": "qGx_1679HITV"
      },
      "source": [
        "another example of python as interpreted language"
      ]
    },
    {
      "cell_type": "code",
      "execution_count": 52,
      "metadata": {
        "colab": {
          "base_uri": "https://localhost:8080/",
          "height": 264
        },
        "id": "JlZR4SNLHITV",
        "outputId": "2fe7de1e-b898-4add-8643-41904d5294e3"
      },
      "outputs": [
        {
          "output_type": "stream",
          "name": "stdout",
          "text": [
            "1 --> <class 'int'> x2 --> 1\n",
            "10 --> <class 'int'> x2 --> 100\n",
            "20.5 --> <class 'float'> x2 --> 420.25\n"
          ]
        },
        {
          "output_type": "error",
          "ename": "TypeError",
          "evalue": "ignored",
          "traceback": [
            "\u001b[0;31m---------------------------------------------------------------------------\u001b[0m",
            "\u001b[0;31mTypeError\u001b[0m                                 Traceback (most recent call last)",
            "\u001b[0;32m<ipython-input-52-4b8904782ded>\u001b[0m in \u001b[0;36m<module>\u001b[0;34m()\u001b[0m\n\u001b[1;32m      1\u001b[0m \u001b[0mb\u001b[0m \u001b[0;34m=\u001b[0m \u001b[0;34m[\u001b[0m\u001b[0;36m1\u001b[0m\u001b[0;34m,\u001b[0m\u001b[0;36m10\u001b[0m\u001b[0;34m,\u001b[0m \u001b[0;36m20.5\u001b[0m\u001b[0;34m,\u001b[0m \u001b[0;34m\"hola\"\u001b[0m\u001b[0;34m,\u001b[0m \u001b[0;36m10.\u001b[0m\u001b[0;34m]\u001b[0m\u001b[0;34m\u001b[0m\u001b[0;34m\u001b[0m\u001b[0m\n\u001b[1;32m      2\u001b[0m \u001b[0;32mfor\u001b[0m \u001b[0mi\u001b[0m \u001b[0;32min\u001b[0m \u001b[0mb\u001b[0m\u001b[0;34m:\u001b[0m\u001b[0;34m\u001b[0m\u001b[0;34m\u001b[0m\u001b[0m\n\u001b[0;32m----> 3\u001b[0;31m     \u001b[0mprint\u001b[0m \u001b[0;34m(\u001b[0m\u001b[0mi\u001b[0m\u001b[0;34m,\u001b[0m \u001b[0;34m\"-->\"\u001b[0m\u001b[0;34m,\u001b[0m \u001b[0mtype\u001b[0m\u001b[0;34m(\u001b[0m\u001b[0mi\u001b[0m\u001b[0;34m)\u001b[0m\u001b[0;34m,\u001b[0m \u001b[0;34m\"x2 -->\"\u001b[0m\u001b[0;34m,\u001b[0m \u001b[0mi\u001b[0m\u001b[0;34m**\u001b[0m\u001b[0;36m2\u001b[0m\u001b[0;34m)\u001b[0m\u001b[0;34m\u001b[0m\u001b[0;34m\u001b[0m\u001b[0m\n\u001b[0m",
            "\u001b[0;31mTypeError\u001b[0m: unsupported operand type(s) for ** or pow(): 'str' and 'int'"
          ]
        }
      ],
      "source": [
        "b = [1,10, 20.5, \"hola\", 10.]\n",
        "for i in b:\n",
        "    print (i, \"-->\", type(i), \"x2 -->\", i**2)"
      ]
    },
    {
      "cell_type": "markdown",
      "metadata": {
        "id": "cEZG_TytHITW"
      },
      "source": [
        "**iterators**\n",
        "\n",
        "sometimes we do not need to hold all the contents of a list in memory, but they can be generated as they are being asked for."
      ]
    },
    {
      "cell_type": "code",
      "execution_count": 53,
      "metadata": {
        "scrolled": true,
        "colab": {
          "base_uri": "https://localhost:8080/"
        },
        "id": "FAp-xDoeHITW",
        "outputId": "dccffe2b-6e30-4acc-fabf-c8e34c198658"
      },
      "outputs": [
        {
          "output_type": "execute_result",
          "data": {
            "text/plain": [
              "range(-3, 10, 2)"
            ]
          },
          "metadata": {},
          "execution_count": 53
        }
      ],
      "source": [
        "k = range(-3,10,2)\n",
        "k"
      ]
    },
    {
      "cell_type": "markdown",
      "metadata": {
        "id": "-3NNB2fxHITW"
      },
      "source": [
        "size in memory"
      ]
    },
    {
      "cell_type": "code",
      "execution_count": 54,
      "metadata": {
        "colab": {
          "base_uri": "https://localhost:8080/"
        },
        "id": "e5ajtt0ZHITW",
        "outputId": "683a8913-f83f-43d0-8f3e-f44f3b0db18f"
      },
      "outputs": [
        {
          "output_type": "execute_result",
          "data": {
            "text/plain": [
              "48"
            ]
          },
          "metadata": {},
          "execution_count": 54
        }
      ],
      "source": [
        "k.__sizeof__()"
      ]
    },
    {
      "cell_type": "code",
      "execution_count": 55,
      "metadata": {
        "colab": {
          "base_uri": "https://localhost:8080/"
        },
        "id": "JiNOVipRHITX",
        "outputId": "541e1224-9f5f-4edd-a87f-f72234d15906"
      },
      "outputs": [
        {
          "output_type": "stream",
          "name": "stdout",
          "text": [
            "-3, -1, 1, 3, 5, 7, 9, "
          ]
        }
      ],
      "source": [
        "for i in k:\n",
        "    print (i, end=\", \")"
      ]
    },
    {
      "cell_type": "code",
      "execution_count": 60,
      "metadata": {
        "colab": {
          "base_uri": "https://localhost:8080/"
        },
        "id": "hvddA3JfHITX",
        "outputId": "96df1f56-e6b7-4f0a-a0ef-59e2c3e85ca6"
      },
      "outputs": [
        {
          "output_type": "execute_result",
          "data": {
            "text/plain": [
              "48"
            ]
          },
          "metadata": {},
          "execution_count": 60
        }
      ],
      "source": [
        "big_range = range(0,100000,2)\n",
        "big_range.__sizeof__()"
      ]
    },
    {
      "cell_type": "code",
      "execution_count": 61,
      "metadata": {
        "colab": {
          "base_uri": "https://localhost:8080/"
        },
        "id": "kGDIlXW1HITX",
        "outputId": "08468580-081c-48be-8628-65875078c491"
      },
      "outputs": [
        {
          "output_type": "execute_result",
          "data": {
            "text/plain": [
              "2499950000"
            ]
          },
          "metadata": {},
          "execution_count": 61
        }
      ],
      "source": [
        "s = 0\n",
        "for i in big_range:\n",
        "    s += i\n",
        "s"
      ]
    },
    {
      "cell_type": "markdown",
      "metadata": {
        "id": "x31EsycRHITY"
      },
      "source": [
        "if converted to a list, then they are physically in memory"
      ]
    },
    {
      "cell_type": "code",
      "execution_count": 62,
      "metadata": {
        "colab": {
          "base_uri": "https://localhost:8080/"
        },
        "id": "RNNsn6vLHITY",
        "outputId": "52dd0a33-c395-43f7-8356-d1936335b89a"
      },
      "outputs": [
        {
          "output_type": "execute_result",
          "data": {
            "text/plain": [
              "450088"
            ]
          },
          "metadata": {},
          "execution_count": 62
        }
      ],
      "source": [
        "a = list(big_range)\n",
        "a.__sizeof__()"
      ]
    },
    {
      "cell_type": "markdown",
      "metadata": {
        "id": "hLckkyCHHITY"
      },
      "source": [
        "zip iterators"
      ]
    },
    {
      "cell_type": "code",
      "execution_count": 64,
      "metadata": {
        "colab": {
          "base_uri": "https://localhost:8080/"
        },
        "id": "5JxFa0CPHITZ",
        "outputId": "638a47c1-d633-46a6-c62d-481a92bdd7e2"
      },
      "outputs": [
        {
          "output_type": "stream",
          "name": "stdout",
          "text": [
            "nada 1\n",
            "adios 10\n",
            "10.0 20.5\n"
          ]
        }
      ],
      "source": [
        "# zip itera de manera simultanea\n",
        "a = [\"nada\", \"adios\", 10.]\n",
        "b = [1,10, 20.5, \"hola\", 10.]\n",
        "\n",
        "for i,j in zip(a,b):\n",
        "    print (i,j)"
      ]
    },
    {
      "cell_type": "markdown",
      "source": [
        "enumerate sirve para traer el indice"
      ],
      "metadata": {
        "id": "E7ceOcNEzO22"
      }
    },
    {
      "cell_type": "code",
      "execution_count": 65,
      "metadata": {
        "colab": {
          "base_uri": "https://localhost:8080/"
        },
        "id": "-cMLZVAkHITZ",
        "outputId": "38e156e8-c6ae-443a-83b0-460aa13510f1"
      },
      "outputs": [
        {
          "output_type": "stream",
          "name": "stdout",
          "text": [
            "the index 0 has the element nada\n",
            "the index 1 has the element adios\n",
            "the index 2 has the element 10.0\n"
          ]
        }
      ],
      "source": [
        "for indx,elem in enumerate(a):\n",
        "  print(\"the index\",indx, \"has the element\",elem)"
      ]
    },
    {
      "cell_type": "markdown",
      "metadata": {
        "id": "Cd4lnV3NHITZ"
      },
      "source": [
        "## Other control structures\n",
        "\n",
        "string formatting / if / then / break / continue / while, etc."
      ]
    },
    {
      "cell_type": "code",
      "execution_count": 66,
      "metadata": {
        "colab": {
          "base_uri": "https://localhost:8080/"
        },
        "id": "-QFOOgdJHITa",
        "outputId": "deb138a7-c1c5-47fa-ef5d-b5c89250163d"
      },
      "outputs": [
        {
          "output_type": "stream",
          "name": "stdout",
          "text": [
            "1 <class 'int'>\n",
            "10 <class 'int'>\n",
            "20.5 <class 'float'>\n"
          ]
        }
      ],
      "source": [
        "# si encuentra el hola para el bucle\n",
        "b = [1,10, 20.5, \"hola\", 10., 12]\n",
        "for i in b:\n",
        "    if i=='hola':\n",
        "        break\n",
        "    print (i, type(i))"
      ]
    },
    {
      "cell_type": "code",
      "execution_count": 67,
      "metadata": {
        "colab": {
          "base_uri": "https://localhost:8080/"
        },
        "id": "u90ow-hpHITa",
        "outputId": "4a5b8b58-eb0e-490f-e75f-94c4a0549d7b"
      },
      "outputs": [
        {
          "output_type": "stream",
          "name": "stdout",
          "text": [
            "INT 1 <class 'int'>\n",
            "INT 10 <class 'int'>\n",
            ">10 20.5 <class 'float'>\n"
          ]
        }
      ],
      "source": [
        "b = [1,10, 20.5, \"hola\", 10., 12]\n",
        "for i in b:\n",
        "    if i=='hola':\n",
        "        break\n",
        "    elif type(i)==int:\n",
        "        print (\"INT\", end=\" \")\n",
        "    elif i>10:\n",
        "        print (\">10\", end=\" \")\n",
        "    print (i, type(i))"
      ]
    },
    {
      "cell_type": "code",
      "execution_count": 68,
      "metadata": {
        "colab": {
          "base_uri": "https://localhost:8080/"
        },
        "id": "4lPHaN8AHITa",
        "outputId": "20107e75-38f5-4879-ae68-21edd9de576f"
      },
      "outputs": [
        {
          "output_type": "stream",
          "name": "stdout",
          "text": [
            "INT 1 <class 'int'>\n",
            "INT 10 <class 'int'>\n",
            ">10 20.5 <class 'float'>\n",
            "UNK 10.0 <class 'float'>\n",
            "INT 12 <class 'int'>\n"
          ]
        }
      ],
      "source": [
        "#continua con continue pero con unas codiciones\n",
        "for i in b:\n",
        "    if i=='hola':\n",
        "        continue\n",
        "    elif type(i)==int:\n",
        "        print (\"INT\", end=\" \")\n",
        "    elif i>10:\n",
        "        print (\">10\", end=\" \")\n",
        "    else:\n",
        "        print (\"UNK\", end=\" \")\n",
        "    print (i, type(i))        \n",
        "    "
      ]
    },
    {
      "cell_type": "code",
      "execution_count": 69,
      "metadata": {
        "colab": {
          "base_uri": "https://localhost:8080/"
        },
        "id": "Oedv1taFHITb",
        "outputId": "b23c4e59-1dd6-4d06-edc8-55b705c1d255"
      },
      "outputs": [
        {
          "output_type": "stream",
          "name": "stdout",
          "text": [
            "00 ::   1.0 ::        <class 'int'>\n",
            "01 ::  10.0 ::        <class 'int'>\n",
            "02 ::  20.5 ::      <class 'float'>\n",
            "04 ::  10.0 ::      <class 'float'>\n",
            "05 ::  12.0 ::        <class 'int'>\n"
          ]
        }
      ],
      "source": [
        "for pos, i in enumerate(b):\n",
        "    if i=='hola':\n",
        "        continue\n",
        "    print (\"%02d :: %5.1f :: %20s\"%(pos,i,type(i)))"
      ]
    },
    {
      "cell_type": "code",
      "execution_count": 70,
      "metadata": {
        "colab": {
          "base_uri": "https://localhost:8080/"
        },
        "id": "W9YPRWhGHITb",
        "outputId": "dcb682de-ccb3-4811-cd1e-9d2b4135fe23"
      },
      "outputs": [
        {
          "output_type": "stream",
          "name": "stdout",
          "text": [
            "1 10 <class 'int'>\n",
            "2 20.5 <class 'float'>\n",
            "3 hola <class 'str'>\n",
            "4 10.0 <class 'float'>\n",
            "5 12 <class 'int'>\n"
          ]
        }
      ],
      "source": [
        "i=1\n",
        "while i<len(b):\n",
        "    print (i, b[i], type(b[i]))\n",
        "    i += 1"
      ]
    },
    {
      "cell_type": "markdown",
      "metadata": {
        "id": "uhN9x2idHITb"
      },
      "source": [
        "## Dictionaries"
      ]
    },
    {
      "cell_type": "code",
      "execution_count": 71,
      "metadata": {
        "colab": {
          "base_uri": "https://localhost:8080/"
        },
        "id": "ojqr6cCIHITc",
        "outputId": "100b5bfb-4bad-4034-a884-19faa86cd3c3"
      },
      "outputs": [
        {
          "output_type": "execute_result",
          "data": {
            "text/plain": [
              "16"
            ]
          },
          "metadata": {},
          "execution_count": 71
        }
      ],
      "source": [
        "d = {\"i1\": 16, \"nombre\": \"haskel\", \"edad\": 32, 20: \"el numero 20\"}\n",
        "\n",
        "d['i1']"
      ]
    },
    {
      "cell_type": "code",
      "execution_count": 76,
      "metadata": {
        "colab": {
          "base_uri": "https://localhost:8080/"
        },
        "id": "NbX0GmCuHITd",
        "outputId": "3b55d021-ccd2-4f6d-ac9d-fa8102fc142d"
      },
      "outputs": [
        {
          "output_type": "execute_result",
          "data": {
            "text/plain": [
              "('el numero 20', 'haskel')"
            ]
          },
          "metadata": {},
          "execution_count": 76
        }
      ],
      "source": [
        "d[20],d['nombre']"
      ]
    },
    {
      "cell_type": "code",
      "execution_count": 77,
      "metadata": {
        "colab": {
          "base_uri": "https://localhost:8080/"
        },
        "id": "bocS--YtHITe",
        "outputId": "7a6504f6-5c81-4466-f87a-8fe39848e2e2"
      },
      "outputs": [
        {
          "output_type": "execute_result",
          "data": {
            "text/plain": [
              "dict_values([16, 'haskel', 32, 'el numero 20'])"
            ]
          },
          "metadata": {},
          "execution_count": 77
        }
      ],
      "source": [
        "#values son los valores del key\n",
        "d.values()"
      ]
    },
    {
      "cell_type": "code",
      "execution_count": 78,
      "metadata": {
        "colab": {
          "base_uri": "https://localhost:8080/"
        },
        "id": "kdycEcKoHITe",
        "outputId": "0adc65c2-77f5-4e7e-f7a4-58aecd36ce35"
      },
      "outputs": [
        {
          "output_type": "execute_result",
          "data": {
            "text/plain": [
              "dict_keys(['i1', 'nombre', 'edad', 20])"
            ]
          },
          "metadata": {},
          "execution_count": 78
        }
      ],
      "source": [
        " #keys lo que esta antes en el diccionario\n",
        "d.keys()"
      ]
    },
    {
      "cell_type": "code",
      "execution_count": 79,
      "metadata": {
        "colab": {
          "base_uri": "https://localhost:8080/"
        },
        "id": "XLUruPMhHITf",
        "outputId": "a109a4c1-17ce-4fcd-9154-429862c4cf85"
      },
      "outputs": [
        {
          "output_type": "stream",
          "name": "stdout",
          "text": [
            "la clave i1 tiene el valor 16\n",
            "la clave nombre tiene el valor haskel\n",
            "la clave edad tiene el valor 32\n",
            "la clave 20 tiene el valor el numero 20\n"
          ]
        }
      ],
      "source": [
        "for i in d.keys():\n",
        "    print(\"la clave\", i, \"tiene el valor\", d[i])"
      ]
    },
    {
      "cell_type": "code",
      "execution_count": 80,
      "metadata": {
        "colab": {
          "base_uri": "https://localhost:8080/"
        },
        "id": "weojQBKIHITf",
        "outputId": "87f5cb33-fffe-483f-d382-abbe6034624e"
      },
      "outputs": [
        {
          "output_type": "stream",
          "name": "stdout",
          "text": [
            "la clave i1 tiene el valor 16\n",
            "la clave nombre tiene el valor haskel\n",
            "la clave edad tiene el valor 32\n",
            "la clave 20 tiene el valor el numero 20\n"
          ]
        }
      ],
      "source": [
        "for k,v in d.items():\n",
        "    print(\"la clave\", k, \"tiene el valor\", v)    "
      ]
    },
    {
      "cell_type": "markdown",
      "metadata": {
        "id": "RZFIcmn5HITf"
      },
      "source": [
        "and can be updated"
      ]
    },
    {
      "cell_type": "code",
      "execution_count": 81,
      "metadata": {
        "id": "85WxsmUpHITf"
      },
      "outputs": [],
      "source": [
        "d[48] = \"otro numero\"\n",
        "d[\"nada\"] = 0"
      ]
    },
    {
      "cell_type": "code",
      "source": [
        "d"
      ],
      "metadata": {
        "id": "AwJJe6bVHp4Z",
        "outputId": "9b752ad5-4611-4d18-f843-0e4751c50998",
        "colab": {
          "base_uri": "https://localhost:8080/"
        }
      },
      "execution_count": 82,
      "outputs": [
        {
          "output_type": "execute_result",
          "data": {
            "text/plain": [
              "{20: 'el numero 20',\n",
              " 48: 'otro numero',\n",
              " 'edad': 32,\n",
              " 'i1': 16,\n",
              " 'nada': 0,\n",
              " 'nombre': 'haskel'}"
            ]
          },
          "metadata": {},
          "execution_count": 82
        }
      ]
    },
    {
      "cell_type": "code",
      "execution_count": 83,
      "metadata": {
        "colab": {
          "base_uri": "https://localhost:8080/"
        },
        "id": "31vytdu9HITf",
        "outputId": "7994612a-9fa3-409e-fa3c-a53ccef9cb94"
      },
      "outputs": [
        {
          "output_type": "stream",
          "name": "stdout",
          "text": [
            "la clave i1 tiene el valor 16\n",
            "la clave nombre tiene el valor haskel\n",
            "la clave edad tiene el valor 32\n",
            "la clave 20 tiene el valor el numero 20\n",
            "la clave 48 tiene el valor otro numero\n",
            "la clave nada tiene el valor 0\n"
          ]
        }
      ],
      "source": [
        "for k,v in d.items():\n",
        "    print(\"la clave\", k, \"tiene el valor\", v)    "
      ]
    },
    {
      "cell_type": "markdown",
      "metadata": {
        "id": "a1F0yMxWHITh"
      },
      "source": [
        "## Tuples\n",
        "\n",
        "tuples are **inmutable** lists, inmutable means that it can not be modified once declared with the brackets (). Sometimes the tuples are faster than lists\n"
      ]
    },
    {
      "cell_type": "code",
      "execution_count": 84,
      "metadata": {
        "id": "_lW5J55BHITi"
      },
      "outputs": [],
      "source": [
        "a = (10,3,4,5)"
      ]
    },
    {
      "cell_type": "code",
      "execution_count": 87,
      "metadata": {
        "colab": {
          "base_uri": "https://localhost:8080/"
        },
        "id": "FU_AxXTPHITj",
        "outputId": "dbe19304-f578-43bf-e300-3e58a8a50caf"
      },
      "outputs": [
        {
          "output_type": "execute_result",
          "data": {
            "text/plain": [
              "(5, (5, 4, 3, 10), 22)"
            ]
          },
          "metadata": {},
          "execution_count": 87
        }
      ],
      "source": [
        "a[3], a[::-1], sum(a)"
      ]
    },
    {
      "cell_type": "code",
      "execution_count": 91,
      "metadata": {
        "colab": {
          "base_uri": "https://localhost:8080/",
          "height": 172
        },
        "id": "H32z4p0HHITk",
        "outputId": "ce2cddb5-af15-42be-e293-4795085feb9c"
      },
      "outputs": [
        {
          "output_type": "error",
          "ename": "TypeError",
          "evalue": "ignored",
          "traceback": [
            "\u001b[0;31m---------------------------------------------------------------------------\u001b[0m",
            "\u001b[0;31mTypeError\u001b[0m                                 Traceback (most recent call last)",
            "\u001b[0;32m<ipython-input-91-36ab6b9a6038>\u001b[0m in \u001b[0;36m<module>\u001b[0;34m()\u001b[0m\n\u001b[0;32m----> 1\u001b[0;31m \u001b[0ma\u001b[0m\u001b[0;34m[\u001b[0m\u001b[0;36m3\u001b[0m\u001b[0;34m]\u001b[0m\u001b[0;34m=\u001b[0m\u001b[0;36m1\u001b[0m\u001b[0;34m\u001b[0m\u001b[0;34m\u001b[0m\u001b[0m\n\u001b[0m",
            "\u001b[0;31mTypeError\u001b[0m: 'tuple' object does not support item assignment"
          ]
        }
      ],
      "source": [
        "a[3]=1"
      ]
    },
    {
      "cell_type": "markdown",
      "metadata": {
        "id": "_RS607lEHITk"
      },
      "source": [
        "and thus can be used for keys, indexing, etc."
      ]
    },
    {
      "cell_type": "code",
      "execution_count": 92,
      "metadata": {
        "colab": {
          "base_uri": "https://localhost:8080/"
        },
        "id": "1ZTmQp7HHITl",
        "outputId": "728096af-85f9-421a-ac2d-b39a67912731"
      },
      "outputs": [
        {
          "output_type": "execute_result",
          "data": {
            "text/plain": [
              "{(4, 5): 'a tuple', 1: 'one', 'hola': 3}"
            ]
          },
          "metadata": {},
          "execution_count": 92
        }
      ],
      "source": [
        "d = {}\n",
        "d[\"hola\"] = 3\n",
        "d[1] = \"one\"\n",
        "d[(4,5)] = \"a tuple\"\n",
        "d"
      ]
    },
    {
      "cell_type": "markdown",
      "metadata": {
        "id": "KT-djrEPHITl"
      },
      "source": [
        "however"
      ]
    }
  ],
  "metadata": {
    "kernelspec": {
      "display_name": "Python 3",
      "language": "python",
      "name": "python3"
    },
    "language_info": {
      "codemirror_mode": {
        "name": "ipython",
        "version": 3
      },
      "file_extension": ".py",
      "mimetype": "text/x-python",
      "name": "python",
      "nbconvert_exporter": "python",
      "pygments_lexer": "ipython3",
      "version": "3.7.6"
    },
    "colab": {
      "name": "NOTES 02.01 - PYTHON BASIC STRUCTURES.ipynb",
      "provenance": []
    }
  },
  "nbformat": 4,
  "nbformat_minor": 0
}