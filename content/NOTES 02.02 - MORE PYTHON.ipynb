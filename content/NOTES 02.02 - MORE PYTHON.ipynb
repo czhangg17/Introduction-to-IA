{
  "cells": [
    {
      "cell_type": "markdown",
      "metadata": {
        "id": "JEiTZ_eCKTmq"
      },
      "source": [
        "# 02.02 - MORE PYTHON"
      ]
    },
    {
      "cell_type": "code",
      "execution_count": 1,
      "metadata": {
        "id": "AbHg1wpcKTmv",
        "outputId": "b03bb04b-7835-44a9-a46e-4ffb1e57ec70",
        "colab": {
          "base_uri": "https://localhost:8080/",
          "height": 76
        }
      },
      "outputs": [
        {
          "output_type": "display_data",
          "data": {
            "text/html": [
              "\n",
              "<meta name=\"google-signin-client_id\"\n",
              "      content=\"461673936472-kdjosv61up3ac1ajeuq6qqu72upilmls.apps.googleusercontent.com\"/>\n",
              "<script src=\"https://apis.google.com/js/client:platform.js?onload=google_button_start\"></script>\n",
              "    "
            ],
            "text/plain": [
              "<IPython.core.display.HTML object>"
            ]
          },
          "metadata": {}
        },
        {
          "output_type": "stream",
          "name": "stdout",
          "text": [
            "replicating local resources\n"
          ]
        },
        {
          "output_type": "execute_result",
          "data": {
            "text/html": [
              "<h3>See <a href='https://m5knaekxo6.execute-api.us-west-2.amazonaws.com/dev-v0001/rlxmooc/web/login' target='_blank'>my courses and progress</a></h2>"
            ],
            "text/plain": [
              "<IPython.core.display.HTML object>"
            ]
          },
          "metadata": {},
          "execution_count": 1
        }
      ],
      "source": [
        "!wget --no-cache -O init.py -q https://raw.githubusercontent.com/rramosp/ai4eng.v1/main/content/init.py\n",
        "import init; init.init(force_download=False); init.get_weblink()"
      ]
    },
    {
      "cell_type": "code",
      "execution_count": 2,
      "metadata": {
        "id": "-sc1tFkSKTmy"
      },
      "outputs": [],
      "source": [
        "import numpy as np"
      ]
    },
    {
      "cell_type": "markdown",
      "metadata": {
        "id": "sQjv1e_RKTmz"
      },
      "source": [
        "## Functions\n",
        "\n",
        "Recall that Python is an indented language. It does not uses any kind of brakets to delimit the scope of programming structures, which are signaled by **changes in indentation**\n",
        "\n",
        "Arguments types are not declared, implementation must be prepared to deal with the data types you want\n"
      ]
    },
    {
      "cell_type": "code",
      "execution_count": 3,
      "metadata": {
        "id": "SIiGUoPdKTm1"
      },
      "outputs": [],
      "source": [
        "def f1(a,b):\n",
        "    r = a*2\n",
        "    return r+b\n",
        "    \n",
        "def gt(a,b):\n",
        "    if a>b:\n",
        "        return a\n",
        "    else:\n",
        "        return b"
      ]
    },
    {
      "cell_type": "code",
      "execution_count": 4,
      "metadata": {
        "id": "iEZ1420-KTm2",
        "outputId": "0e33e856-c4e2-43d4-9a58-bcc986accd23",
        "colab": {
          "base_uri": "https://localhost:8080/"
        }
      },
      "outputs": [
        {
          "output_type": "execute_result",
          "data": {
            "text/plain": [
              "7"
            ]
          },
          "metadata": {},
          "execution_count": 4
        }
      ],
      "source": [
        "f1(2,3)"
      ]
    },
    {
      "cell_type": "code",
      "execution_count": 5,
      "metadata": {
        "id": "US7uH7XkKTm4",
        "outputId": "7dc3840b-d234-4d84-8436-5811a4aa80f2",
        "colab": {
          "base_uri": "https://localhost:8080/"
        }
      },
      "outputs": [
        {
          "output_type": "execute_result",
          "data": {
            "text/plain": [
              "['hola', 2, 'hola', 2, 3]"
            ]
          },
          "metadata": {},
          "execution_count": 5
        }
      ],
      "source": [
        "f1(['hola', 2], [3])"
      ]
    },
    {
      "cell_type": "code",
      "execution_count": 6,
      "metadata": {
        "id": "8I_PQczLKTm5",
        "outputId": "47ae9ea0-ba7a-44f3-fb36-cad99d9046bd",
        "colab": {
          "base_uri": "https://localhost:8080/",
          "height": 36
        }
      },
      "outputs": [
        {
          "output_type": "execute_result",
          "data": {
            "application/vnd.google.colaboratory.intrinsic+json": {
              "type": "string"
            },
            "text/plain": [
              "'pepepepegotera'"
            ]
          },
          "metadata": {},
          "execution_count": 6
        }
      ],
      "source": [
        "f1('pepe', 'gotera')"
      ]
    },
    {
      "cell_type": "code",
      "execution_count": 7,
      "metadata": {
        "id": "9Xtp1LYJKTm6",
        "outputId": "d354bc56-b426-4228-e4fb-16328ad4e7b5",
        "colab": {
          "base_uri": "https://localhost:8080/"
        }
      },
      "outputs": [
        {
          "output_type": "execute_result",
          "data": {
            "text/plain": [
              "4"
            ]
          },
          "metadata": {},
          "execution_count": 7
        }
      ],
      "source": [
        "gt(3,4)"
      ]
    },
    {
      "cell_type": "code",
      "execution_count": 8,
      "metadata": {
        "id": "HXfeNBC2KTm8",
        "outputId": "94378749-e8ee-4989-c566-47ad96bd37a6",
        "colab": {
          "base_uri": "https://localhost:8080/",
          "height": 36
        }
      },
      "outputs": [
        {
          "output_type": "execute_result",
          "data": {
            "application/vnd.google.colaboratory.intrinsic+json": {
              "type": "string"
            },
            "text/plain": [
              "'hola'"
            ]
          },
          "metadata": {},
          "execution_count": 8
        }
      ],
      "source": [
        "gt(\"hola\",\"adios\")"
      ]
    },
    {
      "cell_type": "markdown",
      "metadata": {
        "id": "2T9O9bReKTm9"
      },
      "source": [
        "functions can have default values"
      ]
    },
    {
      "cell_type": "code",
      "execution_count": 9,
      "metadata": {
        "id": "nHGf3JBQKTm-",
        "outputId": "6f0e66db-c02a-4569-834c-f6c948b39f60",
        "colab": {
          "base_uri": "https://localhost:8080/"
        }
      },
      "outputs": [
        {
          "output_type": "execute_result",
          "data": {
            "text/plain": [
              "9"
            ]
          },
          "metadata": {},
          "execution_count": 9
        }
      ],
      "source": [
        "def f_power(x, p=2):\n",
        "    return x**p\n",
        "\n",
        "f_power(3)"
      ]
    },
    {
      "cell_type": "code",
      "execution_count": null,
      "metadata": {
        "id": "DJNo7YYsKTm_",
        "outputId": "7cac85c6-e899-4777-bfb9-5286e14b5e09"
      },
      "outputs": [
        {
          "data": {
            "text/plain": [
              "9"
            ]
          },
          "execution_count": 14,
          "metadata": {},
          "output_type": "execute_result"
        }
      ],
      "source": [
        "f_power(3,2)"
      ]
    },
    {
      "cell_type": "code",
      "source": [
        "f_power(2,4)"
      ],
      "metadata": {
        "id": "1n99oft2Qbeg",
        "outputId": "9ea84436-b612-4091-f822-dd70b9d1ad0c",
        "colab": {
          "base_uri": "https://localhost:8080/"
        }
      },
      "execution_count": 12,
      "outputs": [
        {
          "output_type": "execute_result",
          "data": {
            "text/plain": [
              "16"
            ]
          },
          "metadata": {},
          "execution_count": 12
        }
      ]
    },
    {
      "cell_type": "markdown",
      "metadata": {
        "id": "th8NRmo3KTnA"
      },
      "source": [
        "args can be named when calling the function and, if so, **any order** is ok"
      ]
    },
    {
      "cell_type": "code",
      "execution_count": 13,
      "metadata": {
        "id": "OaMPb0TeKTnB",
        "outputId": "5cd54ba0-bd10-4271-bb39-ddf0023d9a16",
        "colab": {
          "base_uri": "https://localhost:8080/"
        }
      },
      "outputs": [
        {
          "output_type": "execute_result",
          "data": {
            "text/plain": [
              "9"
            ]
          },
          "metadata": {},
          "execution_count": 13
        }
      ],
      "source": [
        "f_power(p=2, x=3)"
      ]
    },
    {
      "cell_type": "markdown",
      "metadata": {
        "id": "abQcWlmqKTnC"
      },
      "source": [
        "functions can have functions defined within, but they are only visible inside the function"
      ]
    },
    {
      "cell_type": "code",
      "execution_count": 14,
      "metadata": {
        "id": "QbBSMWHdKTnC"
      },
      "outputs": [],
      "source": [
        "def f(a,b):\n",
        "    def squared(x):\n",
        "        return x**2\n",
        "    return squared(a+b)"
      ]
    },
    {
      "cell_type": "code",
      "execution_count": 16,
      "metadata": {
        "id": "IxmzQ_n-KTnD",
        "outputId": "bf486363-4a4c-4e9f-de33-53fc3a5fff12",
        "colab": {
          "base_uri": "https://localhost:8080/"
        }
      },
      "outputs": [
        {
          "output_type": "execute_result",
          "data": {
            "text/plain": [
              "25"
            ]
          },
          "metadata": {},
          "execution_count": 16
        }
      ],
      "source": [
        "f(2,3)"
      ]
    },
    {
      "cell_type": "code",
      "execution_count": 17,
      "metadata": {
        "id": "71HVf0_KKTnE",
        "outputId": "428b6faf-c5b6-4a68-b31b-9a2e67cfc32f",
        "colab": {
          "base_uri": "https://localhost:8080/",
          "height": 175
        }
      },
      "outputs": [
        {
          "output_type": "error",
          "ename": "NameError",
          "evalue": "ignored",
          "traceback": [
            "\u001b[0;31m---------------------------------------------------------------------------\u001b[0m",
            "\u001b[0;31mNameError\u001b[0m                                 Traceback (most recent call last)",
            "\u001b[0;32m<ipython-input-17-6fadce67701d>\u001b[0m in \u001b[0;36m<module>\u001b[0;34m()\u001b[0m\n\u001b[0;32m----> 1\u001b[0;31m \u001b[0msquared\u001b[0m\u001b[0;34m(\u001b[0m\u001b[0;36m3\u001b[0m\u001b[0;34m)\u001b[0m\u001b[0;34m\u001b[0m\u001b[0;34m\u001b[0m\u001b[0m\n\u001b[0m",
            "\u001b[0;31mNameError\u001b[0m: name 'squared' is not defined"
          ]
        }
      ],
      "source": [
        "squared(3)"
      ]
    },
    {
      "cell_type": "markdown",
      "metadata": {
        "id": "HI5SCe4SKTnF"
      },
      "source": [
        "functions are regular python objects which can be passed around"
      ]
    },
    {
      "cell_type": "code",
      "execution_count": 18,
      "metadata": {
        "id": "Q-Z4WNHOKTnG"
      },
      "outputs": [],
      "source": [
        "def apply_if_int(f, x):\n",
        "    if type(x)==int:\n",
        "        return f(x)\n",
        "    \n",
        "    return x"
      ]
    },
    {
      "cell_type": "code",
      "execution_count": 19,
      "metadata": {
        "id": "UMmHqVxzKTnG"
      },
      "outputs": [],
      "source": [
        "def cubed(x):\n",
        "    return x**3"
      ]
    },
    {
      "cell_type": "code",
      "execution_count": 20,
      "metadata": {
        "id": "p7K6pAaYKTnH",
        "outputId": "e589fc91-abef-4479-c181-33c9f2c8496f",
        "colab": {
          "base_uri": "https://localhost:8080/"
        }
      },
      "outputs": [
        {
          "output_type": "execute_result",
          "data": {
            "text/plain": [
              "27"
            ]
          },
          "metadata": {},
          "execution_count": 20
        }
      ],
      "source": [
        "apply_if_int(cubed, 3)"
      ]
    },
    {
      "cell_type": "code",
      "execution_count": 21,
      "metadata": {
        "id": "_RB6TY7kKTnH",
        "outputId": "a20b05c9-eb9e-4e3d-8ced-70b5da34578e",
        "colab": {
          "base_uri": "https://localhost:8080/"
        }
      },
      "outputs": [
        {
          "output_type": "execute_result",
          "data": {
            "text/plain": [
              "3.0"
            ]
          },
          "metadata": {},
          "execution_count": 21
        }
      ],
      "source": [
        "apply_if_int(cubed, 3.)"
      ]
    },
    {
      "cell_type": "markdown",
      "metadata": {
        "id": "EOdTRFLoKTnI"
      },
      "source": [
        "`map` exploits this"
      ]
    },
    {
      "cell_type": "code",
      "execution_count": 22,
      "metadata": {
        "id": "SfUG2DEQKTnJ",
        "outputId": "bdcd5f1e-cdfb-4832-bed9-e9d8030aeb97",
        "colab": {
          "base_uri": "https://localhost:8080/"
        }
      },
      "outputs": [
        {
          "output_type": "execute_result",
          "data": {
            "text/plain": [
              "<map at 0x7fa2a6e74790>"
            ]
          },
          "metadata": {},
          "execution_count": 22
        }
      ],
      "source": [
        "map(cubed, [10,20,3,-2,9])"
      ]
    },
    {
      "cell_type": "code",
      "execution_count": 23,
      "metadata": {
        "id": "8eZRzKSbKTnJ",
        "outputId": "f2d63cdd-f917-4398-fed7-ed76589fcb70",
        "colab": {
          "base_uri": "https://localhost:8080/"
        }
      },
      "outputs": [
        {
          "output_type": "execute_result",
          "data": {
            "text/plain": [
              "[1000, 8000, 27, -8, 729]"
            ]
          },
          "metadata": {},
          "execution_count": 23
        }
      ],
      "source": [
        "list(map(cubed, [10,20,3,-2,9]))"
      ]
    },
    {
      "cell_type": "markdown",
      "metadata": {
        "id": "7eq0DXMyKTnK"
      },
      "source": [
        "**lambda** functions are like constants"
      ]
    },
    {
      "cell_type": "code",
      "execution_count": 24,
      "metadata": {
        "id": "O-P_AWn1KTnK",
        "outputId": "73f7543b-e1cc-4ab2-cc48-679086aec44c",
        "colab": {
          "base_uri": "https://localhost:8080/"
        }
      },
      "outputs": [
        {
          "output_type": "execute_result",
          "data": {
            "text/plain": [
              "[100, 400, 9, 4, 81]"
            ]
          },
          "metadata": {},
          "execution_count": 24
        }
      ],
      "source": [
        "list(map(lambda x: x**2, [10,20,3,-2,9]))"
      ]
    },
    {
      "cell_type": "markdown",
      "metadata": {
        "id": "WXEgIjDjKTnL"
      },
      "source": [
        "and can even be used to define simple functions"
      ]
    },
    {
      "cell_type": "code",
      "execution_count": 26,
      "metadata": {
        "id": "0EO3N5iNKTnL",
        "outputId": "a8c04580-5b34-42d7-ac1c-46ae05a89c1c",
        "colab": {
          "base_uri": "https://localhost:8080/"
        }
      },
      "outputs": [
        {
          "output_type": "execute_result",
          "data": {
            "text/plain": [
              "64"
            ]
          },
          "metadata": {},
          "execution_count": 26
        }
      ],
      "source": [
        "sqrd = lambda x: x**2\n",
        "sqrd(8)"
      ]
    },
    {
      "cell_type": "markdown",
      "source": [
        "the map function takes a function as argument and then pas a list as the parameter , like applying a function to a list, as sapply"
      ],
      "metadata": {
        "id": "wTudkfD_SFCr"
      }
    },
    {
      "cell_type": "code",
      "execution_count": 27,
      "metadata": {
        "id": "6E8pU80vKTnM",
        "outputId": "24d66459-b106-4f71-bdaf-dc2c4f70a984",
        "colab": {
          "base_uri": "https://localhost:8080/"
        }
      },
      "outputs": [
        {
          "output_type": "execute_result",
          "data": {
            "text/plain": [
              "[100, 400, 9, 4, 81]"
            ]
          },
          "metadata": {},
          "execution_count": 27
        }
      ],
      "source": [
        "list(map(sqrd, [10,20,3,-2,9]))"
      ]
    },
    {
      "cell_type": "markdown",
      "metadata": {
        "id": "ZXZhky1xKTnN"
      },
      "source": [
        "## Exceptions"
      ]
    },
    {
      "cell_type": "markdown",
      "metadata": {
        "id": "1DAKeLQcKTnN"
      },
      "source": [
        "**catching**"
      ]
    },
    {
      "cell_type": "code",
      "execution_count": 28,
      "metadata": {
        "id": "hDboftAjKTnO",
        "outputId": "0b9a3b8c-2e97-494d-f247-e6ddd76185da",
        "colab": {
          "base_uri": "https://localhost:8080/"
        }
      },
      "outputs": [
        {
          "output_type": "execute_result",
          "data": {
            "text/plain": [
              "3"
            ]
          },
          "metadata": {},
          "execution_count": 28
        }
      ],
      "source": [
        "int(3.2)"
      ]
    },
    {
      "cell_type": "code",
      "execution_count": 29,
      "metadata": {
        "id": "MeJyg1NGKTnP",
        "outputId": "d1f14026-f6e0-4eef-c6e5-c7cb708764bb",
        "colab": {
          "base_uri": "https://localhost:8080/",
          "height": 175
        }
      },
      "outputs": [
        {
          "output_type": "error",
          "ename": "ValueError",
          "evalue": "ignored",
          "traceback": [
            "\u001b[0;31m---------------------------------------------------------------------------\u001b[0m",
            "\u001b[0;31mValueError\u001b[0m                                Traceback (most recent call last)",
            "\u001b[0;32m<ipython-input-29-62025142aa33>\u001b[0m in \u001b[0;36m<module>\u001b[0;34m()\u001b[0m\n\u001b[0;32m----> 1\u001b[0;31m \u001b[0mint\u001b[0m\u001b[0;34m(\u001b[0m\u001b[0;34m\"hola\"\u001b[0m\u001b[0;34m)\u001b[0m\u001b[0;34m\u001b[0m\u001b[0;34m\u001b[0m\u001b[0m\n\u001b[0m",
            "\u001b[0;31mValueError\u001b[0m: invalid literal for int() with base 10: 'hola'"
          ]
        }
      ],
      "source": [
        "int(\"hola\")"
      ]
    },
    {
      "cell_type": "code",
      "execution_count": 30,
      "metadata": {
        "id": "n0D45G6SKTnQ"
      },
      "outputs": [],
      "source": [
        "def int_times_two(x):\n",
        "    try:\n",
        "        return(int(x)*2)\n",
        "    except ValueError:\n",
        "        return 0\n",
        "\n"
      ]
    },
    {
      "cell_type": "code",
      "execution_count": 36,
      "metadata": {
        "id": "L1mdppOKKTnR",
        "outputId": "a7bf1db7-00b4-48ee-976b-990481df5cee",
        "colab": {
          "base_uri": "https://localhost:8080/"
        }
      },
      "outputs": [
        {
          "output_type": "execute_result",
          "data": {
            "text/plain": [
              "4"
            ]
          },
          "metadata": {},
          "execution_count": 36
        }
      ],
      "source": [
        "int_times_two(2)"
      ]
    },
    {
      "cell_type": "code",
      "execution_count": 37,
      "metadata": {
        "id": "OjSFfot1KTnR",
        "outputId": "e8bfec03-9dd4-4916-b537-770e7b663a92",
        "colab": {
          "base_uri": "https://localhost:8080/"
        }
      },
      "outputs": [
        {
          "output_type": "execute_result",
          "data": {
            "text/plain": [
              "4"
            ]
          },
          "metadata": {},
          "execution_count": 37
        }
      ],
      "source": [
        "int_times_two(2.5)"
      ]
    },
    {
      "cell_type": "code",
      "execution_count": 38,
      "metadata": {
        "id": "UABZ6rqbKTnS",
        "outputId": "188efae1-1a41-4ce1-87ac-efb8e521f911",
        "colab": {
          "base_uri": "https://localhost:8080/"
        }
      },
      "outputs": [
        {
          "output_type": "execute_result",
          "data": {
            "text/plain": [
              "0"
            ]
          },
          "metadata": {},
          "execution_count": 38
        }
      ],
      "source": [
        "int_times_two(\"hola\")"
      ]
    },
    {
      "cell_type": "markdown",
      "metadata": {
        "id": "B7jK1m4XKTnT"
      },
      "source": [
        "**raising**"
      ]
    },
    {
      "cell_type": "code",
      "execution_count": 39,
      "metadata": {
        "id": "k8dyXDjIKTnT"
      },
      "outputs": [],
      "source": [
        "def get_positive_integer_from_user():\n",
        "    a = int(input(\"Enter a positive integer: \"))\n",
        "    if a <= 0:\n",
        "        raise ValueError(\"That is not a positive number!\")\n",
        "    print (\"thanks!\")"
      ]
    },
    {
      "cell_type": "code",
      "execution_count": 43,
      "metadata": {
        "id": "dHGTQXCVKTnT",
        "outputId": "d102ccb3-e5a9-4eea-f172-b4da0624f409",
        "colab": {
          "base_uri": "https://localhost:8080/"
        }
      },
      "outputs": [
        {
          "output_type": "stream",
          "name": "stdout",
          "text": [
            "Enter a positive integer: 9\n",
            "thanks!\n"
          ]
        }
      ],
      "source": [
        "get_positive_integer_from_user()"
      ]
    },
    {
      "cell_type": "markdown",
      "metadata": {
        "id": "mQBO1wxeKTnU"
      },
      "source": [
        "## Comprehensions"
      ]
    },
    {
      "cell_type": "markdown",
      "metadata": {
        "id": "aKl_l8coKTnV"
      },
      "source": [
        "**IF**"
      ]
    },
    {
      "cell_type": "code",
      "execution_count": 44,
      "metadata": {
        "id": "euQg4Y4IKTnV",
        "outputId": "f984c424-871c-4c44-d693-d5ad802fdc30",
        "colab": {
          "base_uri": "https://localhost:8080/"
        }
      },
      "outputs": [
        {
          "output_type": "stream",
          "name": "stdout",
          "text": [
            "mayor que 10\n"
          ]
        }
      ],
      "source": [
        "a=15\n",
        "if a > 10:\n",
        "    s = \"mayor que 10\"\n",
        "else:\n",
        "    s = \"menor que 10\"\n",
        "\n",
        "print(s)"
      ]
    },
    {
      "cell_type": "code",
      "execution_count": 45,
      "metadata": {
        "id": "V_ZSxuWBKTnV",
        "outputId": "28e3020d-6af5-419a-cf70-433db2c366d4",
        "colab": {
          "base_uri": "https://localhost:8080/"
        }
      },
      "outputs": [
        {
          "output_type": "stream",
          "name": "stdout",
          "text": [
            "menor que 10\n"
          ]
        }
      ],
      "source": [
        "a = 5\n",
        "s = \"mayor que 10\" if a > 10 else \"menor que 10\"\n",
        "print(s)"
      ]
    },
    {
      "cell_type": "markdown",
      "metadata": {
        "id": "KGwVomOUKTne"
      },
      "source": [
        "**FOR**"
      ]
    },
    {
      "cell_type": "code",
      "execution_count": 46,
      "metadata": {
        "id": "I2D0ARRdKTne"
      },
      "outputs": [],
      "source": [
        "b = [1,10, 20.5, \"hola\", 10.4, 12]"
      ]
    },
    {
      "cell_type": "code",
      "execution_count": 47,
      "metadata": {
        "id": "zk-dsXYSKTnf",
        "outputId": "f5d2fbbe-e8a3-431e-b1cd-46943c78b9c4",
        "colab": {
          "base_uri": "https://localhost:8080/"
        }
      },
      "outputs": [
        {
          "output_type": "execute_result",
          "data": {
            "text/plain": [
              "[2, 20, 40, 0, 20, 24]"
            ]
          },
          "metadata": {},
          "execution_count": 47
        }
      ],
      "source": [
        "r = []\n",
        "for i in b:\n",
        "    r.append(int_times_two(i))\n",
        "r"
      ]
    },
    {
      "cell_type": "code",
      "execution_count": 48,
      "metadata": {
        "id": "4n7_fJyTKTng",
        "outputId": "91ca7c31-a7fe-4221-8470-56c754ad3a90",
        "colab": {
          "base_uri": "https://localhost:8080/"
        }
      },
      "outputs": [
        {
          "output_type": "execute_result",
          "data": {
            "text/plain": [
              "[2, 20, 40, 0, 20, 24]"
            ]
          },
          "metadata": {},
          "execution_count": 48
        }
      ],
      "source": [
        "r = [int_times_two(i) for i in b]\n",
        "r"
      ]
    },
    {
      "cell_type": "markdown",
      "metadata": {
        "id": "H24WMAYnKTnh"
      },
      "source": [
        "**FOR / IF filter**"
      ]
    },
    {
      "cell_type": "code",
      "execution_count": 49,
      "metadata": {
        "id": "WA077iA_KTnh",
        "outputId": "0bea8ba2-88f2-4df0-b19f-35e4ea0bcda3",
        "colab": {
          "base_uri": "https://localhost:8080/"
        }
      },
      "outputs": [
        {
          "output_type": "execute_result",
          "data": {
            "text/plain": [
              "[40, 0, 20, 24]"
            ]
          },
          "metadata": {},
          "execution_count": 49
        }
      ],
      "source": [
        "r = [int_times_two(i) for i in b if type(i)!=int or i > 10]\n",
        "r"
      ]
    },
    {
      "cell_type": "markdown",
      "metadata": {
        "id": "Y6er5UfIKTni"
      },
      "source": [
        "**DICT**"
      ]
    },
    {
      "cell_type": "code",
      "execution_count": 50,
      "metadata": {
        "id": "6VfoJmeVKTni",
        "outputId": "53bf935a-d33c-47b3-cef2-0bae8808bc12",
        "colab": {
          "base_uri": "https://localhost:8080/"
        }
      },
      "outputs": [
        {
          "output_type": "execute_result",
          "data": {
            "text/plain": [
              "{10.4: 20, 12: 24, 20.5: 40, 'hola': 0}"
            ]
          },
          "metadata": {},
          "execution_count": 50
        }
      ],
      "source": [
        "r = {i: int_times_two(i) for i in b if type(i)!=int or i > 10}\n",
        "r"
      ]
    },
    {
      "cell_type": "code",
      "execution_count": 51,
      "metadata": {
        "id": "zwqC1qp3KTnj",
        "outputId": "858da6f9-0195-4576-b49b-1a3f97f15b8f",
        "colab": {
          "base_uri": "https://localhost:8080/"
        }
      },
      "outputs": [
        {
          "output_type": "execute_result",
          "data": {
            "text/plain": [
              "0"
            ]
          },
          "metadata": {},
          "execution_count": 51
        }
      ],
      "source": [
        "r['hola']"
      ]
    },
    {
      "cell_type": "code",
      "execution_count": null,
      "metadata": {
        "id": "PUX1ZUsyKTnj"
      },
      "outputs": [],
      "source": [
        ""
      ]
    }
  ],
  "metadata": {
    "kernelspec": {
      "display_name": "p37",
      "language": "python",
      "name": "p37"
    },
    "language_info": {
      "codemirror_mode": {
        "name": "ipython",
        "version": 3
      },
      "file_extension": ".py",
      "mimetype": "text/x-python",
      "name": "python",
      "nbconvert_exporter": "python",
      "pygments_lexer": "ipython3",
      "version": "3.7.6"
    },
    "colab": {
      "name": "NOTES 02.02 - MORE PYTHON.ipynb",
      "provenance": []
    }
  },
  "nbformat": 4,
  "nbformat_minor": 0
}